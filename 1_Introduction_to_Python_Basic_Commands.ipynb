{
  "nbformat": 4,
  "nbformat_minor": 0,
  "metadata": {
    "colab": {
      "provenance": []
    },
    "kernelspec": {
      "name": "python3",
      "display_name": "Python 3"
    },
    "language_info": {
      "name": "python"
    }
  },
  "cells": [
    {
      "cell_type": "markdown",
      "source": [
        "This set of tasks introduces the basics of Python programming, including variables, data types, input/output, type conversion, operators, conditionals, and loops. It's designed to build foundational coding skills through simple, practical exercises."
      ],
      "metadata": {
        "id": "KHRq37VWbYn5"
      }
    },
    {
      "cell_type": "code",
      "source": [
        "# Task 1: Assigning Values to Variables (Corrected)\n",
        "integer = 10  # Store an integer value\n",
        "float = 3.14  # Store a floating-point number\n",
        "string = \"Hello\"  # Store a string value\n",
        "print(f\"{integer}, {float}, {string}\")  # Print variables separated by commas"
      ],
      "metadata": {
        "colab": {
          "base_uri": "https://localhost:8080/"
        },
        "id": "aE81zjF91l7P",
        "outputId": "87d8c9a8-f954-49ce-cfef-3d3ef5ae3682"
      },
      "execution_count": null,
      "outputs": [
        {
          "output_type": "stream",
          "name": "stdout",
          "text": [
            "10, 3.14, Hello\n"
          ]
        }
      ]
    },
    {
      "cell_type": "code",
      "source": [
        "# Task 2: Data Types\n",
        "# we used ' type ' here so that we can return the data type of a variable, such as int for integers or float for decimal numbers.\n",
        "age = 19  # Assign integer value to age\n",
        "print(type(age))  # Print the data type of age (should be int)\n",
        "age = 19.0  # Change age to a float\n",
        "print(type(age))  # Print the new data type of age (should be float)"
      ],
      "metadata": {
        "colab": {
          "base_uri": "https://localhost:8080/"
        },
        "id": "MeRbfcMx3m1p",
        "outputId": "28b3486e-cb43-4885-cf3c-2d10dccd4672"
      },
      "execution_count": null,
      "outputs": [
        {
          "output_type": "stream",
          "name": "stdout",
          "text": [
            "<class 'int'>\n",
            "<class 'float'>\n"
          ]
        }
      ]
    },
    {
      "cell_type": "code",
      "source": [
        "# Task 3: Basic Input and Output\n",
        "# Ask for the user's name and greet them\n",
        "# we use int here to convert the entered number to integer\n",
        "name = input(\"Enter your name: \")  # Take name input\n",
        "print(f\"Hello, {name}!\")  # Print a greeting message\n",
        "\n",
        "# Ask for the user's age and check voting eligibility\n",
        "user_age = int(input(\"Enter your age: \"))  # Take age input and convert to integer\n",
        "if user_age >= 18:\n",
        "    print(\"You are eligible to vote.\")  # If age 18 or more\n",
        "else:\n",
        "    print(\"You are not eligible to vote.\")  # If under 18"
      ],
      "metadata": {
        "colab": {
          "base_uri": "https://localhost:8080/"
        },
        "id": "9Rr0v8414z0X",
        "outputId": "bb12e063-6c96-4ddf-e5bc-26dc1c668403"
      },
      "execution_count": null,
      "outputs": [
        {
          "output_type": "stream",
          "name": "stdout",
          "text": [
            "Enter your name: aday\n",
            "Hello, aday!\n",
            "Enter your age: 9\n",
            "You are not eligible to vote.\n"
          ]
        }
      ]
    },
    {
      "cell_type": "code",
      "source": [
        "# Task 4: Converting Data Types\n",
        "# Convert string input to integer and print its square\n",
        "num_str = input(\"Enter a sring number: \")  # Input number as string\n",
        "num_int = int(num_str)  # Convert string to integer\n",
        "print(\"Squared value:\", num_int ** 2)  # Print the squared value\n",
        "\n",
        "# Convert string representing float to float, then multiply by 2\n",
        "float_str = input(\"Enter a float number: \")  # A string representing a floating-point number\n",
        "float_num = float(float_str)  # Convert to float\n",
        "print(\"Result after multiplying by 2:\", float_num * 2)  # Multiply and print\n"
      ],
      "metadata": {
        "colab": {
          "base_uri": "https://localhost:8080/"
        },
        "id": "TJA2_UlQ5S1q",
        "outputId": "3bfa7723-0e46-4a64-83ba-c4a2623a6a02"
      },
      "execution_count": null,
      "outputs": [
        {
          "output_type": "stream",
          "name": "stdout",
          "text": [
            "Enter a sring number: 3\n",
            "Squared value: 9\n",
            "Enter a float number: 2.0\n",
            "Result after multiplying by 2: 4.0\n"
          ]
        }
      ]
    },
    {
      "cell_type": "code",
      "source": [
        "# Task 5: Arithmetic Operators\n",
        "print(\"Addition:\", 45 + 67)  # Add two numbers\n",
        "print(\"Subtraction:\", 156 - 89)  # Subtract two numbers\n",
        "print(\"Multiplication:\", 12 * 7)  # Multiply two numbers\n",
        "print(\"Division:\", 100 / 4)  # Divide two numbers\n",
        "print(\"Remainder:\", 10 % 3)  # Find remainder\n",
        "print(\"Power:\", 3 ** 4)  # Find 3 raised to the power of 4\n"
      ],
      "metadata": {
        "colab": {
          "base_uri": "https://localhost:8080/"
        },
        "id": "RsqYElk78Tjp",
        "outputId": "e2dbc5aa-f13b-4092-af7f-093a0c454857"
      },
      "execution_count": null,
      "outputs": [
        {
          "output_type": "stream",
          "name": "stdout",
          "text": [
            "Addition: 112\n",
            "Subtraction: 67\n",
            "Multiplication: 84\n",
            "Division: 25.0\n",
            "Remainder: 1\n",
            "Power: 81\n"
          ]
        }
      ]
    },
    {
      "cell_type": "code",
      "source": [
        "# Task 6: Comparison Operators\n",
        "a = 10  # First number\n",
        "b = 20  # Second number\n",
        "print(\"a == b:\", a == b)  # Check if a equals b\n",
        "print(\"a != b:\", a != b)  # Check if a is not equal to b\n",
        "print(\"a < b:\", a < b)  # Check if a is less than b\n",
        "print(\"a > b:\", a > b)  # Check if a is greater than b\n",
        "print(\"a <= b:\", a <= b)  # Check if a is less than or equal to b\n",
        "print(\"a >= b:\", a >= b)  # Check if a is greater than or equal to b\n",
        "\n",
        "# Ask user to input two numbers and compare\n",
        "num1 = int(input(\"Enter first number: \"))  # Input first number\n",
        "num2 = int(input(\"Enter second number: \"))  # Input second number\n",
        "if num1 >= num2:\n",
        "    print(\"First number is greater than or equal to second number.\")  # If first >= second\n",
        "else:\n",
        "    print(\"First number is less than second number.\")  # If first < second"
      ],
      "metadata": {
        "colab": {
          "base_uri": "https://localhost:8080/"
        },
        "id": "PIbiPO9G8uRh",
        "outputId": "d40d3a01-8cd0-4b8b-98e2-ff4d0581fcee"
      },
      "execution_count": null,
      "outputs": [
        {
          "output_type": "stream",
          "name": "stdout",
          "text": [
            "a == b: False\n",
            "a != b: True\n",
            "a < b: True\n",
            "a > b: False\n",
            "a <= b: True\n",
            "a >= b: False\n",
            "Enter first number: 2\n",
            "Enter second number: 9\n",
            "First number is less than second number.\n"
          ]
        }
      ]
    },
    {
      "cell_type": "code",
      "source": [
        "# Task 7: Logical Operators\n",
        "# Check if number is greater than 10 and less than 20\n",
        "n = int(input(\"Enter a number: \"))  # Input a number\n",
        "if n > 10 and n < 20:\n",
        "    print(\"Number is between 10 and 20.\")  # If number between 10 and 20\n",
        "else:\n",
        "    print(\"Number is not between 10 and 20.\")  # Otherwise\n",
        "\n",
        "# Check if number is less than 5 or greater than 50\n",
        "n = int(input(\"Enter a number: \"))  # Input a number\n",
        "if n < 5 or n > 50:\n",
        "    print(\"Number is either less than 5 or greater than 50.\")  # If number <5 or >50\n",
        "else:\n",
        "    print(\"Number is between 5 and 50.\")  # Otherwise\n"
      ],
      "metadata": {
        "colab": {
          "base_uri": "https://localhost:8080/"
        },
        "id": "ivVbGIuQ9Gn7",
        "outputId": "66e90985-1374-47bc-a6f9-efe495ef5c4d"
      },
      "execution_count": null,
      "outputs": [
        {
          "output_type": "stream",
          "name": "stdout",
          "text": [
            "Enter a number: 0\n",
            "Number is not between 10 and 20.\n",
            "Enter a number: 2\n",
            "Number is either less than 5 or greater than 50.\n"
          ]
        }
      ]
    },
    {
      "cell_type": "code",
      "source": [
        "# Task 8: Conditional Statements\n",
        "# Ask for user's age and decide adult or minor\n",
        "age = int(input(\"Enter your age: \"))  # Input age\n",
        "if age >= 18:\n",
        "    print(\"You are an adult.\")  # If 18 or more\n",
        "else:\n",
        "    print(\"You are a minor.\")  # If less than 18\n",
        "\n",
        "# FizzBuzz program\n",
        "num = int(input(\"Enter a number: \"))  # Input a number\n",
        "if num % 3 == 0 and num % 5 == 0:\n",
        "    print(\"FizzBuzz\")  # Divisible by both 3 and 5\n",
        "elif num % 3 == 0:\n",
        "    print(\"Fizz\")  # Divisible by 3 only\n",
        "elif num % 5 == 0:\n",
        "    print(\"Buzz\")  # Divisible by 5 only\n",
        "else:\n",
        "    print(num)  # Not divisible by 3 or 5"
      ],
      "metadata": {
        "colab": {
          "base_uri": "https://localhost:8080/"
        },
        "id": "TBTFVPEh9b73",
        "outputId": "02dcbcca-cf66-4861-d2ad-87d8af40bfb4"
      },
      "execution_count": null,
      "outputs": [
        {
          "output_type": "stream",
          "name": "stdout",
          "text": [
            "Enter your age: 19\n",
            "You are an adult.\n",
            "Enter a number: 1\n",
            "1\n"
          ]
        }
      ]
    },
    {
      "cell_type": "code",
      "source": [
        "# Task 9: Loops\n",
        "# For loop from 1 to 10\n",
        "for i in range(1, 11):\n",
        "    print(i)  # Print numbers from 1 to 10\n",
        "\n",
        "# While loop to print even numbers from 2 to 20\n",
        "i = 2  # Start from 2\n",
        "while i <= 20:\n",
        "    print(i)  # Print current even number\n",
        "    i += 2  # Increase by 2 to get next even number\n",
        "\n",
        "# Print numbers divisible by 4 up to n\n",
        "n = int(input(\"Enter a number: \"))  # Input a number\n",
        "for i in range(1, n + 1):\n",
        "    if i % 4 == 0:\n",
        "        print(i)  # Print if divisible by 4"
      ],
      "metadata": {
        "colab": {
          "base_uri": "https://localhost:8080/"
        },
        "id": "CHg4jNLl9psE",
        "outputId": "7f13ea91-129c-47d9-cff8-3168aa08c189"
      },
      "execution_count": null,
      "outputs": [
        {
          "output_type": "stream",
          "name": "stdout",
          "text": [
            "1\n",
            "2\n",
            "3\n",
            "4\n",
            "5\n",
            "6\n",
            "7\n",
            "8\n",
            "9\n",
            "10\n",
            "2\n",
            "4\n",
            "6\n",
            "8\n",
            "10\n",
            "12\n",
            "14\n",
            "16\n",
            "18\n",
            "20\n",
            "Enter a number: 19\n",
            "4\n",
            "8\n",
            "12\n",
            "16\n"
          ]
        }
      ]
    },
    {
      "cell_type": "code",
      "source": [
        "# Bonus Task: Nested Loops\n",
        "# Print pattern of stars\n",
        "for i in range(1, 6):  # Outer loop for number of lines\n",
        "    for j in range(i):  # Inner loop to print stars\n",
        "        print(\"*\", end=\"\")  # Print stars in same line\n",
        "    print()  # Move to next line\n"
      ],
      "metadata": {
        "colab": {
          "base_uri": "https://localhost:8080/"
        },
        "id": "4WBbF07y-St6",
        "outputId": "9236aca0-967a-4cde-800d-c4d9c9939176"
      },
      "execution_count": null,
      "outputs": [
        {
          "output_type": "stream",
          "name": "stdout",
          "text": [
            "*\n",
            "**\n",
            "***\n",
            "****\n",
            "*****\n"
          ]
        }
      ]
    }
  ]
}