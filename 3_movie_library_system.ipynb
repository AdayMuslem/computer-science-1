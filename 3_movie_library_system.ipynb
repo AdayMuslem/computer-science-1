{
  "nbformat": 4,
  "nbformat_minor": 0,
  "metadata": {
    "colab": {
      "provenance": []
    },
    "kernelspec": {
      "name": "python3",
      "display_name": "Python 3"
    },
    "language_info": {
      "name": "python"
    }
  },
  "cells": [
    {
      "cell_type": "markdown",
      "source": [
        "Purpose of this project:\n",
        "To build a movie library system that manages movie data, supports searching and reviewing, and helps practice using Python data structures like lists, dictionaries, and tuples."
      ],
      "metadata": {
        "id": "_x_ga9YVjmOM"
      }
    },
    {
      "cell_type": "code",
      "source": [
        "# Step 1: Start a dictionary\n",
        "\n",
        "movie_library = []"
      ],
      "metadata": {
        "id": "c7jndf9nfjO_"
      },
      "execution_count": null,
      "outputs": []
    },
    {
      "cell_type": "code",
      "execution_count": null,
      "metadata": {
        "colab": {
          "base_uri": "https://localhost:8080/"
        },
        "id": "V7kUn-YrfW72",
        "outputId": "fa97e60b-9f98-43ad-a824-6dd71c9f6a32"
      },
      "outputs": [
        {
          "output_type": "stream",
          "name": "stdout",
          "text": [
            "Title: The Lighthouse, Year: 2019, Genres: ['Horror', 'Drama']\n",
            "Rating: 4.2 (based on 980 reviews)\n",
            "Review by Mason: Dark, intense, and brilliantly acted.\n",
            "----------------------------------------\n",
            "Title: Everything Everywhere All At Once, Year: 2022, Genres: ['Adventure', 'Comedy', 'Sci-Fi']\n",
            "Rating: 4.8 (based on 2500 reviews)\n",
            "Review by Lena: Wild and heartfelt multiverse madness!\n",
            "----------------------------------------\n",
            "Title: Hidden Figures, Year: 2016, Genres: ['Biography', 'Drama', 'History']\n",
            "Rating: 4.5 (based on 1700 reviews)\n",
            "Review by Tariq: Inspiring story of unsung heroes in NASA.\n",
            "----------------------------------------\n",
            "Title: Spider-Man: Into the Spider-Verse, Year: 2018, Genres: ['Animation', 'Action', 'Adventure']\n",
            "Rating: 4.9 (based on 3000 reviews)\n",
            "Review by Amira: Visually stunning and deeply entertaining!\n",
            "----------------------------------------\n",
            "Title: Soul, Year: 2020, Genres: ['Animation', 'Fantasy', 'Drama']\n",
            "Rating: 4.6 (based on 2200 reviews)\n",
            "Review by Diego: Makes you think about life and purpose in a beautiful way.\n",
            "----------------------------------------\n"
          ]
        }
      ],
      "source": [
        "# Step 2: Add movies to the library\n",
        "\n",
        "movie_library.append({\n",
        "    'title': 'The Lighthouse',\n",
        "    'year': 2019,\n",
        "    'genres': ['Horror', 'Drama'],\n",
        "    'ratings': (4.2, 980),\n",
        "    'reviews': {'Mason': 'Dark, intense, and brilliantly acted.'}\n",
        "})\n",
        "\n",
        "movie_library.append({\n",
        "    'title': 'Everything Everywhere All At Once',\n",
        "    'year': 2022,\n",
        "    'genres': ['Adventure', 'Comedy', 'Sci-Fi'],\n",
        "    'ratings': (4.8, 2500),\n",
        "    'reviews': {'Lena': 'Wild and heartfelt multiverse madness!'}\n",
        "})\n",
        "\n",
        "movie_library.append({\n",
        "    'title': 'Hidden Figures',\n",
        "    'year': 2016,\n",
        "    'genres': ['Biography', 'Drama', 'History'],\n",
        "    'ratings': (4.5, 1700),\n",
        "    'reviews': {'Tariq': 'Inspiring story of unsung heroes in NASA.'}\n",
        "})\n",
        "\n",
        "movie_library.append({\n",
        "    'title': 'Spider-Man: Into the Spider-Verse',\n",
        "    'year': 2018,\n",
        "    'genres': ['Animation', 'Action', 'Adventure'],\n",
        "    'ratings': (4.9, 3000),\n",
        "    'reviews': {'Amira': 'Visually stunning and deeply entertaining!'}\n",
        "})\n",
        "\n",
        "movie_library.append({\n",
        "    'title': 'Soul',\n",
        "    'year': 2020,\n",
        "    'genres': ['Animation', 'Fantasy', 'Drama'],\n",
        "    'ratings': (4.6, 2200),\n",
        "    'reviews': {'Diego': 'Makes you think about life and purpose in a beautiful way.'}\n",
        "})\n",
        "\n",
        "# Optional: print to confirm the structure\n",
        "for movie in movie_library:\n",
        "    print(f\"Title: {movie['title']}, Year: {movie['year']}, Genres: {movie['genres']}\")\n",
        "    print(f\"Rating: {movie['ratings'][0]} (based on {movie['ratings'][1]} reviews)\")\n",
        "    for reviewer, comment in movie['reviews'].items():\n",
        "        print(f\"Review by {reviewer}: {comment}\")\n",
        "    print(\"-\" * 40)"
      ]
    },
    {
      "cell_type": "code",
      "source": [
        "# Step 3: View all movies in the library\n",
        "\n",
        "for movie in movie_library:\n",
        "  title = movie['title']\n",
        "  year = movie['year']\n",
        "  genres = movie['genres']\n",
        "  rating_score = movie['ratings'][0]\n",
        "  n_reviews = len(movie['reviews']) #assign lenght of variable to n_reviews\n",
        "\n",
        "  print(f\"Title: {title}, Year: {year}, Genre: {genres}, Rating: {rating_score}, Number of reviews: {n_reviews}\")"
      ],
      "metadata": {
        "colab": {
          "base_uri": "https://localhost:8080/"
        },
        "id": "XHBDzfw5fnwp",
        "outputId": "0d3fa1aa-8391-432e-b1ab-14702ef31253"
      },
      "execution_count": null,
      "outputs": [
        {
          "output_type": "stream",
          "name": "stdout",
          "text": [
            "Title: The Lighthouse, Year: 2019, Genre: ['Horror', 'Drama'], Rating: 4.2, Number of reviews: 1\n",
            "Title: Everything Everywhere All At Once, Year: 2022, Genre: ['Adventure', 'Comedy', 'Sci-Fi'], Rating: 4.8, Number of reviews: 1\n",
            "Title: Hidden Figures, Year: 2016, Genre: ['Biography', 'Drama', 'History'], Rating: 4.5, Number of reviews: 1\n",
            "Title: Spider-Man: Into the Spider-Verse, Year: 2018, Genre: ['Animation', 'Action', 'Adventure'], Rating: 4.9, Number of reviews: 1\n",
            "Title: Soul, Year: 2020, Genre: ['Animation', 'Fantasy', 'Drama'], Rating: 4.6, Number of reviews: 1\n"
          ]
        }
      ]
    },
    {
      "cell_type": "code",
      "source": [
        "# Step 4: search movies by genre\n",
        "\n",
        "user_movie = str(input('Enter a genre: '))\n",
        "\n",
        "for movie in movie_library:\n",
        "  if user_movie in movie['genres']:\n",
        "    print(movie['title'])\n",
        "    break\n",
        "\n",
        "\n",
        "else:\n",
        "  print('Not found')"
      ],
      "metadata": {
        "colab": {
          "base_uri": "https://localhost:8080/"
        },
        "id": "ptpDBegOfvky",
        "outputId": "ccc50ed4-068b-4df6-89a9-e8715d023923"
      },
      "execution_count": null,
      "outputs": [
        {
          "output_type": "stream",
          "name": "stdout",
          "text": [
            "Enter a genre: Action\n",
            "Spider-Man: Into the Spider-Verse\n"
          ]
        }
      ]
    },
    {
      "cell_type": "code",
      "source": [
        "# Step 5: view details of a specific movie\n",
        "\n",
        "movie_to_view = 'The Lighthouse'\n",
        "print(f\"Searching for: {movie_to_view}\")\n",
        "\n",
        "for movie in movie_library:\n",
        "    if movie['title'] == movie_to_view:\n",
        "        # Print movie details\n",
        "        print(f\"Title: {movie['title']}\")\n",
        "        print(f\"Year: {movie['year']}\")\n",
        "        print(f\"Genres: {movie['genres']}\")\n",
        "        print(f\"Ratings: {movie['ratings']}\")\n",
        "        print(f\"Reviews: {movie['reviews']}\")\n",
        "        break\n",
        "\n",
        "# After the loop, check if the movie was found\n",
        "else:\n",
        "    print('Not found')"
      ],
      "metadata": {
        "colab": {
          "base_uri": "https://localhost:8080/"
        },
        "id": "z4hBnqlPhqm5",
        "outputId": "32dc5fc7-6a73-4576-abc5-104035756885"
      },
      "execution_count": null,
      "outputs": [
        {
          "output_type": "stream",
          "name": "stdout",
          "text": [
            "Searching for: The Lighthouse\n",
            "Title: The Lighthouse\n",
            "Year: 2019\n",
            "Genres: ['Horror', 'Drama']\n",
            "Ratings: (4.2, 980)\n",
            "Reviews: {'Mason': 'Dark, intense, and brilliantly acted.'}\n"
          ]
        }
      ]
    },
    {
      "cell_type": "code",
      "source": [
        "# Step 6: Add a Review to a Movie\n",
        "\n",
        "#Variables initialization\n",
        "movie_to_review = 'The Lighthouse'\n",
        "reviewer_name = 'Mason'\n",
        "review = 'Dark, intense, and brilliantly acted.'\n",
        "\n",
        "\n",
        "# Find the movie and add the review\n",
        "for movie in movie_library:\n",
        "    if movie['title'] == movie_to_review:  # Check if the title matches 'Inception'\n",
        "        # Add review to the reviews dictionary for Inception\n",
        "        movie['reviews'][reviewer_name] = review\n",
        "\n",
        "        # Update the rating\n",
        "        old_rating, old_num_reviews = movie['ratings']  # Tuple Unpacking the current rating and number of reviews\n",
        "        new_num_reviews = old_num_reviews + 1\n",
        "        new_rating = ((old_rating * old_num_reviews) + 5) / new_num_reviews  # New rating with a review score of 5\n",
        "        movie['rating'] = (new_rating, new_num_reviews)  # Update the movie with the new rating and number of reviews\n",
        "\n",
        "        # Print the movie name and reviewer\n",
        "        print(f\"Review added to {movie_to_review} by {reviewer_name}\")\n",
        "        print(f\"Updated Movie: {movie}\")\n",
        "        break  # Stop the loop once the movie is found and updated"
      ],
      "metadata": {
        "colab": {
          "base_uri": "https://localhost:8080/"
        },
        "id": "g0YufuB4h_m5",
        "outputId": "fc1a537c-d31b-4367-9595-e75b791f4dd8"
      },
      "execution_count": null,
      "outputs": [
        {
          "output_type": "stream",
          "name": "stdout",
          "text": [
            "Review added to The Lighthouse by Mason\n",
            "Updated Movie: {'title': 'The Lighthouse', 'year': 2019, 'genres': ['Horror', 'Drama'], 'ratings': (4.2, 980), 'reviews': {'Mason': 'Dark, intense, and brilliantly acted.'}, 'rating': (4.200815494393476, 981)}\n"
          ]
        }
      ]
    },
    {
      "cell_type": "code",
      "source": [
        "# Step 7: Calculate and display average ratings\n",
        "total_rating = 0\n",
        "total_reviews = 0\n",
        "\n",
        "for movie in movie_library:\n",
        "  rating, num_reviews = movie['ratings']\n",
        "  total_rating += rating * num_reviews\n",
        "  total_reviews += num_reviews\n",
        "\n",
        "if total_reviews == 0:\n",
        "  print('No reviews are available')\n",
        "else:\n",
        "  print(total_rating / total_reviews)"
      ],
      "metadata": {
        "colab": {
          "base_uri": "https://localhost:8080/"
        },
        "id": "uN6MZC3OjMtr",
        "outputId": "174896d8-9b13-4e42-aef7-54e1f2536264"
      },
      "execution_count": null,
      "outputs": [
        {
          "output_type": "stream",
          "name": "stdout",
          "text": [
            "4.680732177263969\n"
          ]
        }
      ]
    }
  ]
}