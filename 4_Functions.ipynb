{
  "nbformat": 4,
  "nbformat_minor": 0,
  "metadata": {
    "colab": {
      "provenance": []
    },
    "kernelspec": {
      "name": "python3",
      "display_name": "Python 3"
    },
    "language_info": {
      "name": "python"
    }
  },
  "cells": [
    {
      "cell_type": "markdown",
      "source": [
        "The purpose of this project is to help beginners practice and understand core Python concepts by writing simple, focused functions. It builds foundational skills like using parameters, return values, loops, conditionals, and string/list operations."
      ],
      "metadata": {
        "id": "n5N6yHsanaRT"
      }
    },
    {
      "cell_type": "code",
      "execution_count": null,
      "metadata": {
        "id": "rKlpV5WVlgRz"
      },
      "outputs": [],
      "source": [
        "# Exercise 1: Basic Function Definition\n",
        "def say_hello(name):\n",
        "    # This function prints a greeting message using the provided name\n",
        "    print(f\"Hello, {name}!\")"
      ]
    },
    {
      "cell_type": "code",
      "source": [
        "# Exercise 2: Function with Return Value\n",
        "def square_number(number):\n",
        "    # This function returns the square of the input number\n",
        "    return number * number"
      ],
      "metadata": {
        "id": "P0Tiq6SimUwf"
      },
      "execution_count": null,
      "outputs": []
    },
    {
      "cell_type": "code",
      "source": [
        "# Exercise 3: Function with Multiple Parameters\n",
        "def add_numbers(a, b):\n",
        "    # This function returns the sum of two numbers\n",
        "    return a + b"
      ],
      "metadata": {
        "id": "c9USf9P5mYKd"
      },
      "execution_count": null,
      "outputs": []
    },
    {
      "cell_type": "code",
      "source": [
        "# Exercise 4: Function with Default Parameters\n",
        "def greet_user(name, age=30):\n",
        "    # This function greets the user and includes age, defaulting to 30 if not provided\n",
        "    print(f\"Hello {name}, you are {age} years old.\")"
      ],
      "metadata": {
        "id": "pT5rlfZwmgda"
      },
      "execution_count": null,
      "outputs": []
    },
    {
      "cell_type": "code",
      "source": [
        "# Exercise 5: Function with Multiple Return Values\n",
        "def get_full_name(first_name, last_name):\n",
        "    # This function returns both first and last names as a tuple\n",
        "    return (first_name, last_name)\n"
      ],
      "metadata": {
        "id": "ltLj1MKlmi9E"
      },
      "execution_count": null,
      "outputs": []
    },
    {
      "cell_type": "code",
      "source": [
        "# Exercise 6: Function to Check Even or Odd Number\n",
        "def check_even_or_odd(number):\n",
        "    # This function checks if a number is even or odd and returns the result\n",
        "    if number % 2 == 0:\n",
        "        return \"Even\"\n",
        "    else:\n",
        "        return \"Odd\""
      ],
      "metadata": {
        "id": "PbTCuZ31mj-i"
      },
      "execution_count": null,
      "outputs": []
    },
    {
      "cell_type": "code",
      "source": [
        "# Exercise 7: Function to Calculate the Factorial\n",
        "def factorial(n):\n",
        "    # This function calculates the factorial of a number using a loop\n",
        "    result = 1\n",
        "    for i in range(1, n + 1):\n",
        "        result *= i\n",
        "    return result"
      ],
      "metadata": {
        "id": "DQfPXl3cmpcI"
      },
      "execution_count": null,
      "outputs": []
    },
    {
      "cell_type": "code",
      "source": [
        "# Exercise 8: Function with Variable Number of Arguments (*args)\n",
        "def average_numbers(*numbers):\n",
        "    # This function calculates the average of any number of arguments\n",
        "    if not numbers:\n",
        "        return 0\n",
        "    return sum(numbers) / len(numbers)"
      ],
      "metadata": {
        "id": "7GatU1Jumrzr"
      },
      "execution_count": null,
      "outputs": []
    },
    {
      "cell_type": "code",
      "source": [
        "# Exercise 9: Function with Keyword Arguments\n",
        "def create_profile(name, age):\n",
        "    # This function prints profile details using keyword arguments\n",
        "    print(f\"Name: {name}, Age: {age}\")"
      ],
      "metadata": {
        "id": "3RczklkEmuXi"
      },
      "execution_count": null,
      "outputs": []
    },
    {
      "cell_type": "code",
      "source": [
        "# Exercise 10: Function to Convert Temperature\n",
        "def celsius_to_fahrenheit(celsius):\n",
        "    # This function converts Celsius temperature to Fahrenheit\n",
        "    return celsius * 9/5 + 32"
      ],
      "metadata": {
        "id": "P14bU7bBmzCF"
      },
      "execution_count": null,
      "outputs": []
    },
    {
      "cell_type": "code",
      "source": [
        "# Exercise 12: Function to Count Vowels in a String\n",
        "def count_vowels(string):\n",
        "    # This function counts and returns the number of vowels in the string\n",
        "    vowels = 'aeiouAEIOU'\n",
        "    count = 0\n",
        "    for char in string:\n",
        "        if char in vowels:\n",
        "            count += 1\n",
        "    return count"
      ],
      "metadata": {
        "id": "u_NFqxO5m69h"
      },
      "execution_count": null,
      "outputs": []
    },
    {
      "cell_type": "code",
      "source": [
        "# Exercise 13: Function to Find the Maximum in a List\n",
        "def find_max(numbers):\n",
        "    # This function returns the largest number in a list\n",
        "    if not numbers:\n",
        "        return None\n",
        "    max_number = numbers[0]\n",
        "    for num in numbers:\n",
        "        if num > max_number:\n",
        "            max_number = num\n",
        "    return max_number"
      ],
      "metadata": {
        "id": "W7NGixngm7ne"
      },
      "execution_count": null,
      "outputs": []
    },
    {
      "cell_type": "code",
      "source": [
        "# Exercise 14: Function to Merge Two Lists\n",
        "def merge_lists(list1, list2):\n",
        "    # This function combines two lists into one and returns the result\n",
        "    return list1 + list2"
      ],
      "metadata": {
        "id": "4xJRx9Cqm-PO"
      },
      "execution_count": null,
      "outputs": []
    },
    {
      "cell_type": "code",
      "source": [
        "# Exercise 16: Function to Reverse a String\n",
        "def reverse_string(s):\n",
        "    # This function returns the reversed version of the input string\n",
        "    return s[::-1]"
      ],
      "metadata": {
        "id": "WqWIQFG-nAf8"
      },
      "execution_count": null,
      "outputs": []
    },
    {
      "cell_type": "code",
      "source": [
        "# Exercise 17: Function to Check Palindrome\n",
        "def is_palindrome(s):\n",
        "    # This function checks if the string is a palindrome\n",
        "    return s == s[::-1]"
      ],
      "metadata": {
        "id": "kxr7AoWhnEjw"
      },
      "execution_count": null,
      "outputs": []
    },
    {
      "cell_type": "code",
      "source": [
        "# Exercise 20: Advanced Function: Create a Simple Calculator\n",
        "def calculator(num1, num2, operation):\n",
        "    # This function performs a calculation based on the operation provided\n",
        "    if operation == '+':\n",
        "        return num1 + num2\n",
        "    elif operation == '-':\n",
        "        return num1 - num2\n",
        "    elif operation == '*':\n",
        "        return num1 * num2\n",
        "    elif operation == '/':\n",
        "        # Check for division by zero\n",
        "        if num2 == 0:\n",
        "            return \"Error: Division by zero\"\n",
        "        return num1 / num2\n",
        "    else:\n",
        "        return \"Invalid operation\""
      ],
      "metadata": {
        "id": "DZ5ryB9PnNHD"
      },
      "execution_count": null,
      "outputs": []
    }
  ]
}